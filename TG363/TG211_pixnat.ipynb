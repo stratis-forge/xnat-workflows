{
 "cells": [
  {
   "cell_type": "markdown",
   "id": "30fffd6f-5e6a-4bea-87ae-d6ff9e0bbf5c",
   "metadata": {
    "tags": []
   },
   "source": [
    "# Demo notebook for downloading TG211 data from MSK PIXNAT for analysis"
   ]
  },
  {
   "cell_type": "code",
   "execution_count": 2,
   "id": "f1300131-827a-471d-98c9-df9d398afabd",
   "metadata": {},
   "outputs": [
    {
     "name": "stdout",
     "output_type": "stream",
     "text": [
      "Defaulting to user installation because normal site-packages is not writeable\n",
      "Collecting pyxnat\n",
      "  Using cached pyxnat-1.4.tar.gz (78 kB)\n",
      "  Preparing metadata (setup.py) ... \u001b[?25ldone\n",
      "\u001b[?25hCollecting lxml>=4.3\n",
      "  Downloading lxml-4.8.0-cp38-cp38-manylinux_2_17_x86_64.manylinux2014_x86_64.manylinux_2_24_x86_64.whl (6.9 MB)\n",
      "     |████████████████████████████████| 6.9 MB 4.7 MB/s            ��███████▍           | 4.4 MB 4.7 MB/s eta 0:00:01\n",
      "\u001b[?25hRequirement already satisfied: requests>=2.20 in /miniconda3/envs/jlab_octave/lib/python3.8/site-packages (from pyxnat) (2.25.1)\n",
      "Collecting pathlib>=1.0\n",
      "  Using cached pathlib-1.0.1.tar.gz (49 kB)\n",
      "  Preparing metadata (setup.py) ... \u001b[?25ldone\n",
      "\u001b[?25hRequirement already satisfied: six>=1.15 in /miniconda3/envs/jlab_octave/lib/python3.8/site-packages (from pyxnat) (1.16.0)\n",
      "Requirement already satisfied: future>=0.16 in /home/locastre/.local/lib/python3.8/site-packages (from pyxnat) (0.18.2)\n",
      "Requirement already satisfied: idna<3,>=2.5 in /miniconda3/envs/jlab_octave/lib/python3.8/site-packages (from requests>=2.20->pyxnat) (2.10)\n",
      "Requirement already satisfied: certifi>=2017.4.17 in /miniconda3/envs/jlab_octave/lib/python3.8/site-packages (from requests>=2.20->pyxnat) (2021.5.30)\n",
      "Requirement already satisfied: chardet<5,>=3.0.2 in /miniconda3/envs/jlab_octave/lib/python3.8/site-packages (from requests>=2.20->pyxnat) (4.0.0)\n",
      "Requirement already satisfied: urllib3<1.27,>=1.21.1 in /miniconda3/envs/jlab_octave/lib/python3.8/site-packages (from requests>=2.20->pyxnat) (1.26.6)\n",
      "Building wheels for collected packages: pyxnat, pathlib\n",
      "  Building wheel for pyxnat (setup.py) ... \u001b[?25ldone\n",
      "\u001b[?25h  Created wheel for pyxnat: filename=pyxnat-1.4-py3-none-any.whl size=92687 sha256=114bf752464dfb595653433c81affc84d7d7d2f03d24db2f7d4a38bb695cde46\n",
      "  Stored in directory: /home/locastre/.cache/pip/wheels/ab/8c/88/43b445801349ef91dea1a2f7e572f20b9940320e27fb985faa\n",
      "  Building wheel for pathlib (setup.py) ... \u001b[?25ldone\n",
      "\u001b[?25h  Created wheel for pathlib: filename=pathlib-1.0.1-py3-none-any.whl size=14348 sha256=18c9ddc8f3c9ae8b5b16aa588ca0a8eb5d0e05edf196cab8e3e2f68054e2dc7c\n",
      "  Stored in directory: /home/locastre/.cache/pip/wheels/59/02/2f/ff4a3e16a518feb111ae1405908094483ef56fec0dfa39e571\n",
      "Successfully built pyxnat pathlib\n",
      "Installing collected packages: pathlib, lxml, pyxnat\n",
      "Successfully installed lxml-4.8.0 pathlib-1.0.1 pyxnat-1.4\n"
     ]
    }
   ],
   "source": [
    "!pip install pyxnat"
   ]
  },
  {
   "cell_type": "code",
   "execution_count": 3,
   "id": "ee4d922a-8b8e-420b-91f6-0615b0fda587",
   "metadata": {},
   "outputs": [],
   "source": [
    "from pyxnat import Interface\n",
    "import os\n",
    "from glob import glob"
   ]
  },
  {
   "cell_type": "markdown",
   "id": "a312e302-e7a8-4c22-a84d-027e9ce66907",
   "metadata": {},
   "source": [
    "## Connect to host"
   ]
  },
  {
   "cell_type": "code",
   "execution_count": 4,
   "id": "dd701521-3009-464f-b532-971d3c883954",
   "metadata": {},
   "outputs": [],
   "source": [
    "host = 'http://pixnat.mskcc.org'"
   ]
  },
  {
   "cell_type": "code",
   "execution_count": 6,
   "id": "f67ee9bc-9a82-4df6-9f58-8bd901d1afce",
   "metadata": {},
   "outputs": [
    {
     "name": "stdin",
     "output_type": "stream",
     "text": [
      "User:  locastre\n",
      " ·············\n"
     ]
    }
   ],
   "source": [
    "xnat = Interface(host)"
   ]
  },
  {
   "cell_type": "code",
   "execution_count": 7,
   "id": "ed30022c-20c7-4aa3-ad41-1bf711fe8184",
   "metadata": {},
   "outputs": [],
   "source": [
    "project_id = 'TG211_PAS'"
   ]
  },
  {
   "cell_type": "code",
   "execution_count": 8,
   "id": "ec88aabd-8660-41a9-b64f-ff028f546266",
   "metadata": {},
   "outputs": [],
   "source": [
    "xproj = xnat.select.project(project_id)"
   ]
  },
  {
   "cell_type": "code",
   "execution_count": 9,
   "id": "64d1158c-1d0b-4153-9274-7369c3d41887",
   "metadata": {},
   "outputs": [],
   "source": [
    "MILPPAB_list = []\n",
    "UCLPTLU_list = []"
   ]
  },
  {
   "cell_type": "code",
   "execution_count": 10,
   "id": "96ebb4ce-7911-4f1f-8881-e5aec85afec1",
   "metadata": {},
   "outputs": [],
   "source": [
    "xexplist = xproj.experiments('*').get()"
   ]
  },
  {
   "cell_type": "markdown",
   "id": "3c99d85b-0ed8-433a-8e26-4498e3d5b413",
   "metadata": {},
   "source": [
    "### Get all UCL scans"
   ]
  },
  {
   "cell_type": "code",
   "execution_count": 11,
   "id": "dfcaef15-6ca3-45b7-a8a2-f3a0c39a388e",
   "metadata": {},
   "outputs": [],
   "source": [
    "for exp_id in xexplist:\n",
    "    xexp = xnat.select.project(project_id).experiment(exp_id)\n",
    "    label_id = xexp.attrs.get('label')\n",
    "    if 'MILPPAB' in label_id:\n",
    "        MILPPAB_list.append(exp_id)\n",
    "    elif 'UCLPTLU' in label_id:\n",
    "        UCLPTLU_list.append(exp_id)"
   ]
  },
  {
   "cell_type": "code",
   "execution_count": 12,
   "id": "09475873-a35d-4eeb-8ad0-2b30d09ac2fd",
   "metadata": {},
   "outputs": [
    {
     "data": {
      "text/plain": [
       "['PI_XNAT_E04867',\n",
       " 'PI_XNAT_E04868',\n",
       " 'PI_XNAT_E04869',\n",
       " 'PI_XNAT_E04870',\n",
       " 'PI_XNAT_E04871',\n",
       " 'PI_XNAT_E04872',\n",
       " 'PI_XNAT_E04873',\n",
       " 'PI_XNAT_E04874',\n",
       " 'PI_XNAT_E04875',\n",
       " 'PI_XNAT_E04876']"
      ]
     },
     "execution_count": 12,
     "metadata": {},
     "output_type": "execute_result"
    }
   ],
   "source": [
    "UCLPTLU_list"
   ]
  },
  {
   "cell_type": "markdown",
   "id": "f487506e-a1e9-405a-a214-a826efe61db4",
   "metadata": {},
   "source": [
    "## Demo download of data to local folder"
   ]
  },
  {
   "cell_type": "code",
   "execution_count": 13,
   "id": "5001f97a-e9c7-4dd8-b92a-ac602880711e",
   "metadata": {},
   "outputs": [],
   "source": [
    "download_dir = 'demo'"
   ]
  },
  {
   "cell_type": "code",
   "execution_count": 14,
   "id": "19a3e819-81bd-4287-9f09-6483694605f4",
   "metadata": {},
   "outputs": [],
   "source": [
    "os.makedirs(download_dir,exist_ok=True)"
   ]
  },
  {
   "cell_type": "markdown",
   "id": "7d808533-8f66-4476-98c1-8f5f5d418fde",
   "metadata": {},
   "source": [
    "### Choose first UCL exam in list"
   ]
  },
  {
   "cell_type": "code",
   "execution_count": 15,
   "id": "84242762-34df-41a2-a14c-bdddd29dc2ae",
   "metadata": {},
   "outputs": [
    {
     "name": "stdout",
     "output_type": "stream",
     "text": [
      "PI_XNAT_E04867\n"
     ]
    }
   ],
   "source": [
    "exp_id = UCLPTLU_list[0]\n",
    "print(exp_id)"
   ]
  },
  {
   "cell_type": "code",
   "execution_count": 16,
   "id": "f243bbfe-6969-4c6e-8147-c2e63c86b570",
   "metadata": {},
   "outputs": [
    {
     "name": "stdout",
     "output_type": "stream",
     "text": [
      "UCLPTLU_02\n"
     ]
    }
   ],
   "source": [
    "xexp = xnat.select.project(project_id).experiment(exp_id)\n",
    "label_id = xexp.attrs.get('label')\n",
    "print(label_id)"
   ]
  },
  {
   "cell_type": "markdown",
   "id": "8dd9d43c-b07f-42cc-a84e-2156672954e5",
   "metadata": {},
   "source": [
    "### Get planC from first exam"
   ]
  },
  {
   "cell_type": "code",
   "execution_count": 16,
   "id": "e88dbfee-eaba-4be9-b1f3-c036a2580d18",
   "metadata": {},
   "outputs": [],
   "source": [
    "cerrdownloadpath = os.path.join(download_dir,label_id)\n",
    "os.makedirs(cerrdownloadpath,exist_ok=True)"
   ]
  },
  {
   "cell_type": "code",
   "execution_count": 17,
   "id": "987deb8f-052d-49ee-88ca-f811ca91223c",
   "metadata": {},
   "outputs": [
    {
     "data": {
      "text/plain": [
       "['demo\\\\UCLPTLU_02\\\\CERR\\\\UCLPTLU_02.mat.bz2']"
      ]
     },
     "execution_count": 17,
     "metadata": {},
     "output_type": "execute_result"
    }
   ],
   "source": [
    "xexp.resource('CERR').get(cerrdownloadpath,extract=True)"
   ]
  },
  {
   "cell_type": "markdown",
   "id": "309d0491-45e3-461e-9fe5-81162266a9a7",
   "metadata": {},
   "source": [
    "### Get NIfTI files"
   ]
  },
  {
   "cell_type": "code",
   "execution_count": 18,
   "id": "364ea8cc-6f7c-4122-b9ac-d893083f9f03",
   "metadata": {},
   "outputs": [
    {
     "data": {
      "text/plain": [
       "['demo\\\\UCLPTLU_02\\\\NIfTI\\\\CT_scan_1_CT.1062013.111435.370752.677178.nii',\n",
       " 'demo\\\\UCLPTLU_02\\\\NIfTI\\\\PT_1_mask_GTV_CT.1062013.111627.3447983.0525999.nii',\n",
       " 'demo\\\\UCLPTLU_02\\\\NIfTI\\\\PT_1_scan_2_CT.1062013.111627.3447983.0525128.nii',\n",
       " 'demo\\\\UCLPTLU_02\\\\NIfTI\\\\PT_2_mask_GTV_CT.1062013.112120.4427669.175332.nii',\n",
       " 'demo\\\\UCLPTLU_02\\\\NIfTI\\\\PT_2_scan_3_CT.1062013.112120.4427669.1753171.nii']"
      ]
     },
     "execution_count": 18,
     "metadata": {},
     "output_type": "execute_result"
    }
   ],
   "source": [
    "xexp.resource('NIfTI').get(cerrdownloadpath,extract=True)"
   ]
  },
  {
   "cell_type": "markdown",
   "id": "21f63e85-5d0e-4381-8c22-ba2f420a0396",
   "metadata": {},
   "source": [
    "### Get DICOM files"
   ]
  },
  {
   "cell_type": "code",
   "execution_count": 17,
   "id": "cbfe5803-9560-41fc-939b-04277b6a3a6f",
   "metadata": {},
   "outputs": [
    {
     "name": "stdout",
     "output_type": "stream",
     "text": [
      "['1_3_6_1_4_1_9590_100_1_2_251798578225648820027105844481971439166', '1_3_6_1_4_1_9590_100_1_2_350146998316667394530049581082729940716', '1_3_6_1_4_1_9590_100_1_2_388534113514407529223602170040924316478', '1_3_6_1_4_1_9590_100_1_2_429175419830198836429998868710063379239']\n"
     ]
    }
   ],
   "source": [
    "scanlist = xexp.scans('*').get()\n",
    "print(scanlist)"
   ]
  },
  {
   "cell_type": "code",
   "execution_count": 19,
   "id": "05f1bf97-4030-4799-ae62-858eaae823c3",
   "metadata": {},
   "outputs": [
    {
     "name": "stdout",
     "output_type": "stream",
     "text": [
      "1_3_6_1_4_1_9590_100_1_2_251798578225648820027105844481971439166\n",
      "1_3_6_1_4_1_9590_100_1_2_350146998316667394530049581082729940716\n",
      "1_3_6_1_4_1_9590_100_1_2_429175419830198836429998868710063379239\n"
     ]
    }
   ],
   "source": [
    "for scan_id in scanlist:\n",
    "    xscan = xexp.scan(scan_id)\n",
    "    dicompath = os.path.join(download_dir,label_id,scan_id)    \n",
    "    if xscan.resource('DICOM').exists():\n",
    "        os.makedirs(dicompath,exist_ok=True)\n",
    "        print(scan_id)\n",
    "        xscan.resource('DICOM').get(dicompath)"
   ]
  },
  {
   "cell_type": "code",
   "execution_count": null,
   "id": "d6710031-9656-4257-b792-dbec787a1bc3",
   "metadata": {},
   "outputs": [],
   "source": []
  }
 ],
 "metadata": {
  "kernelspec": {
   "display_name": "Python 3 (ipykernel)",
   "language": "python",
   "name": "python3"
  },
  "language_info": {
   "codemirror_mode": {
    "name": "ipython",
    "version": 3
   },
   "file_extension": ".py",
   "mimetype": "text/x-python",
   "name": "python",
   "nbconvert_exporter": "python",
   "pygments_lexer": "ipython3",
   "version": "3.8.5"
  }
 },
 "nbformat": 4,
 "nbformat_minor": 5
}
