{
 "cells": [
  {
   "cell_type": "markdown",
   "id": "2f0722f9-9402-46a6-9f25-ac3b46d3fd1f",
   "metadata": {},
   "source": [
    "## PyXNAT demo for SPI pixnat"
   ]
  },
  {
   "cell_type": "markdown",
   "id": "356cb0b0-08fd-4bdb-8398-03e9c8b7145e",
   "metadata": {},
   "source": [
    "PyXNAT 101: https://wiki.xnat.org/workshop-2016/files/29034956/29034952/1/1465385228621/Pyxnat+101.pdf"
   ]
  },
  {
   "cell_type": "code",
   "execution_count": 1,
   "id": "6a09b837-abb1-4f90-a07c-cabacb77059e",
   "metadata": {},
   "outputs": [
    {
     "name": "stdout",
     "output_type": "stream",
     "text": [
      "Defaulting to user installation because normal site-packages is not writeable\n",
      "Requirement already satisfied: pyxnat in /home/locastre/.local/lib/python3.8/site-packages (1.4)\n",
      "Requirement already satisfied: pathlib>=1.0 in /home/locastre/.local/lib/python3.8/site-packages (from pyxnat) (1.0.1)\n",
      "Requirement already satisfied: lxml>=4.3 in /home/locastre/.local/lib/python3.8/site-packages (from pyxnat) (4.8.0)\n",
      "Requirement already satisfied: six>=1.15 in /miniconda3/envs/jlab_octave/lib/python3.8/site-packages (from pyxnat) (1.16.0)\n",
      "Requirement already satisfied: requests>=2.20 in /miniconda3/envs/jlab_octave/lib/python3.8/site-packages (from pyxnat) (2.25.1)\n",
      "Requirement already satisfied: future>=0.16 in /home/locastre/.local/lib/python3.8/site-packages (from pyxnat) (0.18.2)\n",
      "Requirement already satisfied: idna<3,>=2.5 in /miniconda3/envs/jlab_octave/lib/python3.8/site-packages (from requests>=2.20->pyxnat) (2.10)\n",
      "Requirement already satisfied: chardet<5,>=3.0.2 in /miniconda3/envs/jlab_octave/lib/python3.8/site-packages (from requests>=2.20->pyxnat) (4.0.0)\n",
      "Requirement already satisfied: urllib3<1.27,>=1.21.1 in /miniconda3/envs/jlab_octave/lib/python3.8/site-packages (from requests>=2.20->pyxnat) (1.26.6)\n",
      "Requirement already satisfied: certifi>=2017.4.17 in /miniconda3/envs/jlab_octave/lib/python3.8/site-packages (from requests>=2.20->pyxnat) (2021.5.30)\n"
     ]
    }
   ],
   "source": [
    "!pip install pyxnat"
   ]
  },
  {
   "cell_type": "code",
   "execution_count": 2,
   "id": "b4631d5a-3e41-4950-9834-c40a978e01a6",
   "metadata": {},
   "outputs": [],
   "source": [
    "from pyxnat import Interface"
   ]
  },
  {
   "cell_type": "code",
   "execution_count": 3,
   "id": "7e4038da-edeb-4ad8-b22e-1bea8af9e9ca",
   "metadata": {},
   "outputs": [
    {
     "name": "stdin",
     "output_type": "stream",
     "text": [
      "User:  locastre\n",
      " ·············\n"
     ]
    }
   ],
   "source": [
    "xnat = Interface('http://pixnat.mskcc.org')"
   ]
  },
  {
   "cell_type": "markdown",
   "id": "635013e3-7aca-4602-80af-19320f60553a",
   "metadata": {},
   "source": [
    "Select all of user's projects from PIXNAT. Adding `.get()` gives the string label, otherwise the result is a \"Collection Object\" which you can get further attributes from."
   ]
  },
  {
   "cell_type": "code",
   "execution_count": 4,
   "id": "2ba5abd0-a87c-46ce-ae2d-bf11f84578cd",
   "metadata": {},
   "outputs": [],
   "source": [
    "project_list = xnat.select.projects('*').get()"
   ]
  },
  {
   "cell_type": "code",
   "execution_count": 5,
   "id": "8c42bbcf-d906-48fe-9231-e0839fb5e604",
   "metadata": {},
   "outputs": [
    {
     "name": "stdout",
     "output_type": "stream",
     "text": [
      "['HPV30Gy', 'Dave_U01', 'sandbox', 'TestData', 'B1_testing', 'NSCLC-BM', 'ThorOAR_NSCLC', 'ACRIN6684', 'QIN-GBM-TR', 'training_CT_HN', 'RTOG0617', 'FastCBNet', 'training_MR_PR', 'COVID', 'parotid_stim_I', 'HN70Gy', 'HNXeroModDemo', 'NCI_Lior', 'FDGHypoxiaHN', 'SRSNecrosisMR', 'RT-taste-loss', 'CERRMenagerie', 'Lee30Gy2020', '16142NSCLC', '161488CMDLV3', 'TCGA-GBM', '16542BMetsSRS', '16142NSCLCv2', '8448_Radionecr', '161307hsud3', '161307_BMAseg', '113021_tyagi_p', 'TG211_PAS', 'OMT_MRM_2019', 'TG363_Prime', 'HN_OMT']\n"
     ]
    }
   ],
   "source": [
    "print(project_list)"
   ]
  },
  {
   "cell_type": "code",
   "execution_count": 6,
   "id": "bb98d830-1756-4aec-9ece-64970442327f",
   "metadata": {},
   "outputs": [],
   "source": [
    "project_id = 'TG211_PAS'"
   ]
  },
  {
   "cell_type": "markdown",
   "id": "199be680-ed49-4cdd-a0b6-da95efbdfa80",
   "metadata": {},
   "source": [
    "Exams are given an internal XNAT ID, but can also be assigned descriptive labels. XNAT returns the internal ID by default, but it is easy to get the descriptive \"session ID\" from each experiment Collection Object."
   ]
  },
  {
   "cell_type": "code",
   "execution_count": 8,
   "id": "8f3f4130-d38b-4c5c-a1cc-3f566394ff4b",
   "metadata": {},
   "outputs": [],
   "source": [
    "xexp_list = xnat.select.project(project_id).experiments('*')"
   ]
  },
  {
   "cell_type": "code",
   "execution_count": 11,
   "id": "115e87af-4167-47c3-89a5-d96dfdb1e6ed",
   "metadata": {},
   "outputs": [],
   "source": [
    "session_list = []\n",
    "for xexp in xexp_list:\n",
    "    session_list.append(xexp.attrs.get('label'))"
   ]
  },
  {
   "cell_type": "code",
   "execution_count": 12,
   "id": "d8d0924f-30fc-4d4f-a35f-d97a23f78b69",
   "metadata": {},
   "outputs": [
    {
     "name": "stdout",
     "output_type": "stream",
     "text": [
      "['UCLPTLU_02', 'UCLPTLU_03', 'UCLPTLU_04', 'UCLPTLU_05', 'UCLPTLU_06', 'UCLPTLU_07', 'UCLPTLU_08', 'UCLPTLU_09', 'UCLPTLU_10', 'UCLPTLU_01', 'MILPPAB_01', 'MILPPAB_02', 'MILPPAB_03', 'MILPPAB_04', 'MILPPAB_05', 'MILPPAB_06', 'MILPPAB_07', 'MILPPAB_08', 'MILPPAB_09', 'MILPPAB_10', 'MILPPAB_11']\n"
     ]
    }
   ],
   "source": [
    "print(session_list)"
   ]
  },
  {
   "cell_type": "code",
   "execution_count": null,
   "id": "a60c05d4-6f69-458c-bad2-1aff6afd58dc",
   "metadata": {},
   "outputs": [],
   "source": []
  }
 ],
 "metadata": {
  "kernelspec": {
   "display_name": "Python 3 (ipykernel)",
   "language": "python",
   "name": "python3"
  },
  "language_info": {
   "codemirror_mode": {
    "name": "ipython",
    "version": 3
   },
   "file_extension": ".py",
   "mimetype": "text/x-python",
   "name": "python",
   "nbconvert_exporter": "python",
   "pygments_lexer": "ipython3",
   "version": "3.8.5"
  }
 },
 "nbformat": 4,
 "nbformat_minor": 5
}
