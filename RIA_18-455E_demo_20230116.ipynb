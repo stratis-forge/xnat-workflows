{
 "cells": [
  {
   "cell_type": "markdown",
   "id": "68183f29-429d-4a8d-a34c-edee1026194f",
   "metadata": {},
   "source": [
    "# Demo notebook for radiomics analysis of 18-455E from Conrad XNAT"
   ]
  },
  {
   "cell_type": "code",
   "execution_count": 1,
   "id": "9bdbf8ad-37dc-4059-9fb7-898631511711",
   "metadata": {},
   "outputs": [],
   "source": [
    "import os, pydicom, shutil, getpass\n",
    "\n",
    "from pyxnat import Interface\n",
    "\n",
    "from oct2py import octave"
   ]
  },
  {
   "cell_type": "code",
   "execution_count": 2,
   "id": "3b6b7b6f-3891-4c62-8d30-b93c328f5c76",
   "metadata": {},
   "outputs": [],
   "source": [
    "%load_ext oct2py.ipython"
   ]
  },
  {
   "cell_type": "code",
   "execution_count": 3,
   "id": "f8489d04-5ad7-4635-9813-f53587d8115c",
   "metadata": {},
   "outputs": [],
   "source": [
    "# Local path to CERR Octave code\n",
    "cerrPath = '/cluster/home/locastre/CERR_octave/20230113/CERR'\n",
    "\n",
    "# XNAT host address\n",
    "#xhost = 'http://xnat.mskcc.org'\n",
    "xhost = 'https://conrad.mskcc.org'"
   ]
  },
  {
   "cell_type": "markdown",
   "id": "1ff1768d-c2db-421e-a504-4a5a6232b67c",
   "metadata": {},
   "source": [
    "### Connect to XNAT"
   ]
  },
  {
   "cell_type": "code",
   "execution_count": 4,
   "id": "783ccc63-8de3-4509-bccc-8795f7ab90f1",
   "metadata": {},
   "outputs": [
    {
     "name": "stdin",
     "output_type": "stream",
     "text": [
      " ········\n"
     ]
    }
   ],
   "source": [
    "xusr = 'locastre'\n",
    "xpwd = getpass.getpass()"
   ]
  },
  {
   "cell_type": "code",
   "execution_count": 7,
   "id": "992d21a3-1458-4073-a0b1-12c6d6d75c88",
   "metadata": {},
   "outputs": [],
   "source": [
    "xnat = Interface(xhost, user=xusr, password=xpwd)"
   ]
  },
  {
   "cell_type": "code",
   "execution_count": 8,
   "id": "9377073f-c6eb-432c-96f7-e7e44d9f30f5",
   "metadata": {},
   "outputs": [
    {
     "name": "stdout",
     "output_type": "stream",
     "text": [
      "MSKCC02_E32444\n"
     ]
    }
   ],
   "source": [
    "proj = '18-455E'\n",
    "xproj = xnat.select.project(proj)\n",
    "\n",
    "subj0 = 'RIA_18-455E_000_000001'\n",
    "\n",
    "xsubj = xproj.subject(subj0)\n",
    "exp = xsubj.experiments('*').get()[0]\n",
    "print(exp)\n",
    "\n",
    "xexp = xsubj.experiment(exp)\n",
    "\n",
    "slabel = xexp.attrs.get('label')"
   ]
  },
  {
   "cell_type": "markdown",
   "id": "32a0e984-352d-4a53-b828-fd71fc1d0893",
   "metadata": {},
   "source": [
    "### Define function to pull RTSTRUCT and associated scan from a RIA exam on XNAT"
   ]
  },
  {
   "cell_type": "code",
   "execution_count": 9,
   "id": "94226924-8218-4686-be1d-091a530df6ad",
   "metadata": {},
   "outputs": [],
   "source": [
    "def pull_XNAT_struct_and_DICOM(xexp, workingdir):\n",
    "    exp = xexp.attrs.get('label')\n",
    "    xscanlist = xexp.scans('*')\n",
    "    dcmdir = os.path.join(workingdir,exp)\n",
    "    os.makedirs(dcmdir,exist_ok = True)\n",
    "    roidcmfile = ''\n",
    "    for xroi in xexp.assessors('*'):\n",
    "        for xres in xroi.resources('*'):\n",
    "            roifile = xres.files().get()[0]\n",
    "            if '.dcm' in roifile:\n",
    "                roidcmfile = os.path.join(dcmdir,roifile)\n",
    "                xres.file(roifile).get(roidcmfile)\n",
    "                rtstruct = pydicom.dcmread(roidcmfile)\n",
    "                seriesUID = rtstruct[0x30060010][0][0x30060012][0][0x30060014][0][0x0020000e].value\n",
    "        for xscan in xscanlist:\n",
    "            flist = xscan.resource('DICOM').files().get()\n",
    "            if flist != []:\n",
    "                f0 = flist[0]\n",
    "                xscan.resource('DICOM').file(f0).get(f0)\n",
    "                fdcm = pydicom.dcmread(f0)\n",
    "                if str(fdcm.SeriesInstanceUID) == seriesUID:\n",
    "                    slabel = xscan.attrs.get('ID')\n",
    "                    print('RTSTRUCT matches ' + slabel)\n",
    "                    seriesdir = os.path.join(dcmdir,slabel)\n",
    "                    os.makedirs(seriesdir,exist_ok=True)\n",
    "                    xscan.resource('DICOM').get(seriesdir,extract = True)\n",
    "                    destroifile = os.path.join(seriesdir,'DICOM',roifile)\n",
    "                    if not os.path.exists(destroifile):\n",
    "                        shutil.move(roidcmfile,os.path.join(seriesdir,'DICOM'))\n",
    "                    else:\n",
    "                        os.remove(roidcmfile)\n",
    "                    break\n",
    "                os.remove(f0)\n",
    "    dcmdir = os.path.join(seriesdir,'DICOM')\n",
    "    return dcmdir, xscan"
   ]
  },
  {
   "cell_type": "markdown",
   "id": "7ce6a06e-07e7-4a58-a016-5fef36665f04",
   "metadata": {},
   "source": [
    "#### Set download location for DICOM files"
   ]
  },
  {
   "cell_type": "code",
   "execution_count": 10,
   "id": "72f2297d-bc9e-42d0-8811-3e495ac23503",
   "metadata": {},
   "outputs": [],
   "source": [
    "downloaddir = '/lab/deasylab1/Eve/rectal_xnat'\n",
    "os.makedirs(downloaddir,exist_ok = True)"
   ]
  },
  {
   "cell_type": "code",
   "execution_count": 11,
   "id": "21f2d592-cd74-4e86-89ad-078d7c603448",
   "metadata": {},
   "outputs": [
    {
     "name": "stdout",
     "output_type": "stream",
     "text": [
      "RTSTRUCT matches 7\n"
     ]
    }
   ],
   "source": [
    "dcmdir, xscan = pull_XNAT_struct_and_DICOM(xexp,downloaddir)"
   ]
  },
  {
   "cell_type": "code",
   "execution_count": 12,
   "id": "1b274d2b-5fc6-444f-92ee-3a56f1c8ec37",
   "metadata": {},
   "outputs": [
    {
     "name": "stdout",
     "output_type": "stream",
     "text": [
      "DICOM image and RTSTRUCT files downloaded to /lab/deasylab1/Eve/rectal_xnat/524882/7/DICOM\n"
     ]
    }
   ],
   "source": [
    "print('DICOM image and RTSTRUCT files downloaded to ' + dcmdir)"
   ]
  },
  {
   "cell_type": "code",
   "execution_count": 13,
   "id": "c5d4c992-c0b0-4457-9875-3c3cd5645ef5",
   "metadata": {},
   "outputs": [],
   "source": [
    "featureDir = '/lab/deasylab1/Eve/rectal_xnat/524882/7/radfeatures'\n",
    "os.makedirs(featureDir,exist_ok=True)"
   ]
  },
  {
   "cell_type": "code",
   "execution_count": 14,
   "id": "ae5aca64-a328-4c36-8599-08e414d53274",
   "metadata": {},
   "outputs": [],
   "source": [
    "%octave_push cerrPath slabel subj0 dcmdir featureDir"
   ]
  },
  {
   "cell_type": "markdown",
   "id": "28a610e3-96ba-41c6-8b4c-7c3851697a0c",
   "metadata": {},
   "source": [
    "### Run CERR feature calculation in Octave as illustrated in https://github.com/stratis-forge/radiomics-workflows/blob/main/radiomic_and_dosimetric_feature_extraction.ipynb"
   ]
  },
  {
   "cell_type": "code",
   "execution_count": 15,
   "id": "5cb95a86-4a35-4270-8a67-121fd6de4c2d",
   "metadata": {
    "scrolled": true,
    "tags": []
   },
   "outputs": [
    {
     "data": {
      "text/plain": [
       "success = 1"
      ]
     },
     "metadata": {},
     "output_type": "display_data"
    },
    {
     "data": {
      "text/plain": [
       "/lab/deasylab1/Eve/rectal_xnat/524882/7/DICOM"
      ]
     },
     "metadata": {},
     "output_type": "display_data"
    },
    {
     "data": {
      "text/plain": [
       "Elapsed time is 0.0242479 seconds."
      ]
     },
     "metadata": {},
     "output_type": "display_data"
    },
    {
     "data": {
      "text/plain": [
       "Elapsed time is 0.00670409 seconds."
      ]
     },
     "metadata": {},
     "output_type": "display_data"
    },
    {
     "data": {
      "text/plain": [
       "ans = 1"
      ]
     },
     "metadata": {},
     "output_type": "display_data"
    },
    {
     "data": {
      "text/plain": [
       "Reading directory:/lab/deasylab1/Eve/rectal_xnat/524882/7/DICOM ..."
      ]
     },
     "metadata": {},
     "output_type": "display_data"
    },
    {
     "data": {
      "text/plain": [
       "warning: Invalid UTF-8 byte sequences have been replaced."
      ]
     },
     "metadata": {},
     "output_type": "display_data"
    },
    {
     "data": {
      "text/plain": [
       "warning: called from"
      ]
     },
     "metadata": {},
     "output_type": "display_data"
    },
    {
     "data": {
      "text/plain": [
       "    importDICOM at line 75 column 19"
      ]
     },
     "metadata": {},
     "output_type": "display_data"
    },
    {
     "data": {
      "text/plain": [
       "    _pyeval at line 48 column 11"
      ]
     },
     "metadata": {},
     "output_type": "display_data"
    },
    {
     "data": {
      "text/plain": []
     },
     "metadata": {},
     "output_type": "display_data"
    },
    {
     "data": {
      "text/plain": [
       " Reading header ..."
      ]
     },
     "metadata": {},
     "output_type": "display_data"
    },
    {
     "data": {
      "text/plain": [
       "CERR>>  DICOM Import has no methods defined for import into the planC{indexS.header}.sponsorID field, leaving empty."
      ]
     },
     "metadata": {},
     "output_type": "display_data"
    },
    {
     "data": {
      "text/plain": [
       "CERR>>  DICOM Import has no methods defined for import into the planC{indexS.header}.protocolID field, leaving empty."
      ]
     },
     "metadata": {},
     "output_type": "display_data"
    },
    {
     "data": {
      "text/plain": [
       "CERR>>  DICOM Import has no methods defined for import into the planC{indexS.header}.subjectID field, leaving empty."
      ]
     },
     "metadata": {},
     "output_type": "display_data"
    },
    {
     "data": {
      "text/plain": [
       "CERR>>  DICOM Import has no methods defined for import into the planC{indexS.header}.submissionID field, leaving empty."
      ]
     },
     "metadata": {},
     "output_type": "display_data"
    },
    {
     "data": {
      "text/plain": [
       "CERR>>  DICOM Import has no methods defined for import into the planC{indexS.header}.timeSaved field, leaving empty."
      ]
     },
     "metadata": {},
     "output_type": "display_data"
    },
    {
     "data": {
      "text/plain": [
       "CERR>>  DICOM Import has no methods defined for import into the planC{indexS.header}.lastSavedInVer field, leaving empty."
      ]
     },
     "metadata": {},
     "output_type": "display_data"
    },
    {
     "data": {
      "text/plain": [
       "CERR>>  DICOM Import has no methods defined for import into the planC{indexS.header}.CERRImportVersion field, leaving empty."
      ]
     },
     "metadata": {},
     "output_type": "display_data"
    },
    {
     "data": {
      "text/plain": [
       "CERR>>  DICOM Import has no methods defined for import into the planC{indexS.header}.anonymizedID field, leaving empty."
      ]
     },
     "metadata": {},
     "output_type": "display_data"
    },
    {
     "data": {
      "text/plain": [
       " Reading comment ..."
      ]
     },
     "metadata": {},
     "output_type": "display_data"
    },
    {
     "data": {
      "text/plain": [
       " Reading scan ..."
      ]
     },
     "metadata": {},
     "output_type": "display_data"
    },
    {
     "data": {
      "text/plain": [
       "Loading Scan ..."
      ]
     },
     "metadata": {},
     "output_type": "display_data"
    },
    {
     "data": {
      "text/plain": [
       "/lab/deasylab1/Eve/rectal_xnat/524882/7/DICOM/img_0007_1.2.840.113619.2.453.5554020.7690754.12612.1625997151.891.dcm -> /tmp/DICOM356103/img_0007_1.2.840.113619.2.453.5554020.7690754.12612.1625997151.891.dcm"
      ]
     },
     "metadata": {},
     "output_type": "display_data"
    },
    {
     "data": {
      "text/plain": [
       "/lab/deasylab1/Eve/rectal_xnat/524882/7/DICOM/img_0014_1.2.840.113619.2.453.5554020.7690754.12612.1625997151.904.dcm -> /tmp/DICOM356103/img_0014_1.2.840.113619.2.453.5554020.7690754.12612.1625997151.904.dcm"
      ]
     },
     "metadata": {},
     "output_type": "display_data"
    },
    {
     "data": {
      "text/plain": [
       "/lab/deasylab1/Eve/rectal_xnat/524882/7/DICOM/img_0011_1.2.840.113619.2.453.5554020.7690754.12612.1625997151.893.dcm -> /tmp/DICOM356103/img_0011_1.2.840.113619.2.453.5554020.7690754.12612.1625997151.893.dcm"
      ]
     },
     "metadata": {},
     "output_type": "display_data"
    },
    {
     "data": {
      "text/plain": [
       "/lab/deasylab1/Eve/rectal_xnat/524882/7/DICOM/img_0017_1.2.840.113619.2.453.5554020.7690754.12612.1625997151.896.dcm -> /tmp/DICOM356103/img_0017_1.2.840.113619.2.453.5554020.7690754.12612.1625997151.896.dcm"
      ]
     },
     "metadata": {},
     "output_type": "display_data"
    },
    {
     "data": {
      "text/plain": [
       "/lab/deasylab1/Eve/rectal_xnat/524882/7/DICOM/img_0015_1.2.840.113619.2.453.5554020.7690754.12612.1625997151.895.dcm -> /tmp/DICOM356103/img_0015_1.2.840.113619.2.453.5554020.7690754.12612.1625997151.895.dcm"
      ]
     },
     "metadata": {},
     "output_type": "display_data"
    },
    {
     "data": {
      "text/plain": [
       "/lab/deasylab1/Eve/rectal_xnat/524882/7/DICOM/img_0009_1.2.840.113619.2.453.5554020.7690754.12612.1625997151.892.dcm -> /tmp/DICOM356103/img_0009_1.2.840.113619.2.453.5554020.7690754.12612.1625997151.892.dcm"
      ]
     },
     "metadata": {},
     "output_type": "display_data"
    },
    {
     "data": {
      "text/plain": [
       "/lab/deasylab1/Eve/rectal_xnat/524882/7/DICOM/img_0010_1.2.840.113619.2.453.5554020.7690754.12612.1625997151.902.dcm -> /tmp/DICOM356103/img_0010_1.2.840.113619.2.453.5554020.7690754.12612.1625997151.902.dcm"
      ]
     },
     "metadata": {},
     "output_type": "display_data"
    },
    {
     "data": {
      "text/plain": [
       "/lab/deasylab1/Eve/rectal_xnat/524882/7/DICOM/img_0001_1.2.840.113619.2.453.5554020.7690754.12612.1625997151.888.dcm -> /tmp/DICOM356103/img_0001_1.2.840.113619.2.453.5554020.7690754.12612.1625997151.888.dcm"
      ]
     },
     "metadata": {},
     "output_type": "display_data"
    },
    {
     "data": {
      "text/plain": [
       "/lab/deasylab1/Eve/rectal_xnat/524882/7/DICOM/img_0006_1.2.840.113619.2.453.5554020.7690754.12612.1625997151.900.dcm -> /tmp/DICOM356103/img_0006_1.2.840.113619.2.453.5554020.7690754.12612.1625997151.900.dcm"
      ]
     },
     "metadata": {},
     "output_type": "display_data"
    },
    {
     "data": {
      "text/plain": [
       "/lab/deasylab1/Eve/rectal_xnat/524882/7/DICOM/img_0002_1.2.840.113619.2.453.5554020.7690754.12612.1625997151.898.dcm -> /tmp/DICOM356103/img_0002_1.2.840.113619.2.453.5554020.7690754.12612.1625997151.898.dcm"
      ]
     },
     "metadata": {},
     "output_type": "display_data"
    },
    {
     "data": {
      "text/plain": [
       "/lab/deasylab1/Eve/rectal_xnat/524882/7/DICOM/img_0012_1.2.840.113619.2.453.5554020.7690754.12612.1625997151.903.dcm -> /tmp/DICOM356103/img_0012_1.2.840.113619.2.453.5554020.7690754.12612.1625997151.903.dcm"
      ]
     },
     "metadata": {},
     "output_type": "display_data"
    },
    {
     "data": {
      "text/plain": [
       "/lab/deasylab1/Eve/rectal_xnat/524882/7/DICOM/img_0018_1.2.840.113619.2.453.5554020.7690754.12612.1625997151.906.dcm -> /tmp/DICOM356103/img_0018_1.2.840.113619.2.453.5554020.7690754.12612.1625997151.906.dcm"
      ]
     },
     "metadata": {},
     "output_type": "display_data"
    },
    {
     "data": {
      "text/plain": [
       "/lab/deasylab1/Eve/rectal_xnat/524882/7/DICOM/img_0005_1.2.840.113619.2.453.5554020.7690754.12612.1625997151.890.dcm -> /tmp/DICOM356103/img_0005_1.2.840.113619.2.453.5554020.7690754.12612.1625997151.890.dcm"
      ]
     },
     "metadata": {},
     "output_type": "display_data"
    },
    {
     "data": {
      "text/plain": [
       "/lab/deasylab1/Eve/rectal_xnat/524882/7/DICOM/img_0019_1.2.840.113619.2.453.5554020.7690754.12612.1625997151.897.dcm -> /tmp/DICOM356103/img_0019_1.2.840.113619.2.453.5554020.7690754.12612.1625997151.897.dcm"
      ]
     },
     "metadata": {},
     "output_type": "display_data"
    },
    {
     "data": {
      "text/plain": [
       "/lab/deasylab1/Eve/rectal_xnat/524882/7/DICOM/img_0020_1.2.840.113619.2.453.5554020.7690754.12612.1625997151.907.dcm -> /tmp/DICOM356103/img_0020_1.2.840.113619.2.453.5554020.7690754.12612.1625997151.907.dcm"
      ]
     },
     "metadata": {},
     "output_type": "display_data"
    },
    {
     "data": {
      "text/plain": [
       "/lab/deasylab1/Eve/rectal_xnat/524882/7/DICOM/img_0013_1.2.840.113619.2.453.5554020.7690754.12612.1625997151.894.dcm -> /tmp/DICOM356103/img_0013_1.2.840.113619.2.453.5554020.7690754.12612.1625997151.894.dcm"
      ]
     },
     "metadata": {},
     "output_type": "display_data"
    },
    {
     "data": {
      "text/plain": [
       "/lab/deasylab1/Eve/rectal_xnat/524882/7/DICOM/img_0003_1.2.840.113619.2.453.5554020.7690754.12612.1625997151.889.dcm -> /tmp/DICOM356103/img_0003_1.2.840.113619.2.453.5554020.7690754.12612.1625997151.889.dcm"
      ]
     },
     "metadata": {},
     "output_type": "display_data"
    },
    {
     "data": {
      "text/plain": [
       "/lab/deasylab1/Eve/rectal_xnat/524882/7/DICOM/img_0016_1.2.840.113619.2.453.5554020.7690754.12612.1625997151.905.dcm -> /tmp/DICOM356103/img_0016_1.2.840.113619.2.453.5554020.7690754.12612.1625997151.905.dcm"
      ]
     },
     "metadata": {},
     "output_type": "display_data"
    },
    {
     "data": {
      "text/plain": [
       "/lab/deasylab1/Eve/rectal_xnat/524882/7/DICOM/img_0004_1.2.840.113619.2.453.5554020.7690754.12612.1625997151.899.dcm -> /tmp/DICOM356103/img_0004_1.2.840.113619.2.453.5554020.7690754.12612.1625997151.899.dcm"
      ]
     },
     "metadata": {},
     "output_type": "display_data"
    },
    {
     "data": {
      "text/plain": [
       "/lab/deasylab1/Eve/rectal_xnat/524882/7/DICOM/img_0008_1.2.840.113619.2.453.5554020.7690754.12612.1625997151.901.dcm -> /tmp/DICOM356103/img_0008_1.2.840.113619.2.453.5554020.7690754.12612.1625997151.901.dcm"
      ]
     },
     "metadata": {},
     "output_type": "display_data"
    },
    {
     "data": {
      "text/plain": [
       "/lab/deasylab1/Eve/rectal_xnat/524882/7/DICOM/AIM_20230109_175317_780_S7.dcm -> /tmp/DICOM356103/AIM_20230109_175317_780_S7.dcm"
      ]
     },
     "metadata": {},
     "output_type": "display_data"
    },
    {
     "data": {
      "text/plain": [
       "log4j:WARN No appenders could be found for logger (org.dcm4che3.data.Attributes)."
      ]
     },
     "metadata": {},
     "output_type": "display_data"
    },
    {
     "data": {
      "text/plain": [
       "log4j:WARN Please initialize the log4j system properly."
      ]
     },
     "metadata": {},
     "output_type": "display_data"
    },
    {
     "data": {
      "text/plain": [
       "log4j:WARN See http://logging.apache.org/log4j/1.2/faq.html#noconfig for more info."
      ]
     },
     "metadata": {},
     "output_type": "display_data"
    },
    {
     "data": {
      "text/plain": [
       " Reading structures ..."
      ]
     },
     "metadata": {},
     "output_type": "display_data"
    },
    {
     "data": {
      "text/plain": [
       "Loading RTSTRUCT ..."
      ]
     },
     "metadata": {},
     "output_type": "display_data"
    },
    {
     "data": {
      "text/plain": [
       " Reading structureArray ..."
      ]
     },
     "metadata": {},
     "output_type": "display_data"
    },
    {
     "data": {
      "text/plain": [
       " Reading structureArrayMore ..."
      ]
     },
     "metadata": {},
     "output_type": "display_data"
    },
    {
     "data": {
      "text/plain": [
       " Reading beams ..."
      ]
     },
     "metadata": {},
     "output_type": "display_data"
    },
    {
     "data": {
      "text/plain": [
       " Reading beamGeometry ..."
      ]
     },
     "metadata": {},
     "output_type": "display_data"
    },
    {
     "data": {
      "text/plain": [
       " Reading dose ..."
      ]
     },
     "metadata": {},
     "output_type": "display_data"
    },
    {
     "data": {
      "text/plain": [
       " Reading DVH ..."
      ]
     },
     "metadata": {},
     "output_type": "display_data"
    },
    {
     "data": {
      "text/plain": [
       " Reading IVH ..."
      ]
     },
     "metadata": {},
     "output_type": "display_data"
    },
    {
     "data": {
      "text/plain": [
       " Reading planParam ..."
      ]
     },
     "metadata": {},
     "output_type": "display_data"
    },
    {
     "data": {
      "text/plain": [
       " Reading seedGeometry ..."
      ]
     },
     "metadata": {},
     "output_type": "display_data"
    },
    {
     "data": {
      "text/plain": [
       " Reading digitalFilm ..."
      ]
     },
     "metadata": {},
     "output_type": "display_data"
    },
    {
     "data": {
      "text/plain": [
       " Reading RTTreatment ..."
      ]
     },
     "metadata": {},
     "output_type": "display_data"
    },
    {
     "data": {
      "text/plain": [
       " Reading IM ..."
      ]
     },
     "metadata": {},
     "output_type": "display_data"
    },
    {
     "data": {
      "text/plain": [
       " Reading GSPS ..."
      ]
     },
     "metadata": {},
     "output_type": "display_data"
    },
    {
     "data": {
      "text/plain": [
       " Reading deform ..."
      ]
     },
     "metadata": {},
     "output_type": "display_data"
    },
    {
     "data": {
      "text/plain": [
       " Reading registration ..."
      ]
     },
     "metadata": {},
     "output_type": "display_data"
    },
    {
     "data": {
      "text/plain": [
       " Reading texture ..."
      ]
     },
     "metadata": {},
     "output_type": "display_data"
    },
    {
     "data": {
      "text/plain": [
       " Reading featureSet ..."
      ]
     },
     "metadata": {},
     "output_type": "display_data"
    },
    {
     "data": {
      "text/plain": [
       " Reading importLog ..."
      ]
     },
     "metadata": {},
     "output_type": "display_data"
    },
    {
     "data": {
      "text/plain": [
       " Reading segmentLabel ..."
      ]
     },
     "metadata": {},
     "output_type": "display_data"
    },
    {
     "data": {
      "text/plain": [
       " Reading CERROptions ..."
      ]
     },
     "metadata": {},
     "output_type": "display_data"
    },
    {
     "data": {
      "text/plain": [
       " Reading indexS ..."
      ]
     },
     "metadata": {},
     "output_type": "display_data"
    },
    {
     "data": {
      "text/plain": [
       "Creating raster-scan representation of unnamed contour roi contour."
      ]
     },
     "metadata": {},
     "output_type": "display_data"
    },
    {
     "data": {
      "text/plain": [
       "ans = 1"
      ]
     },
     "metadata": {},
     "output_type": "display_data"
    }
   ],
   "source": [
    "%%octave\n",
    "\n",
    "pkg load image\n",
    "pkg load io\n",
    "pkg load statistics\n",
    "\n",
    "setenv('JAVA_HOME','/content/jdk1.8.0_211')\n",
    "\n",
    "addpath(cerrPath);\n",
    "addToPath2(cerrPath);\n",
    "\n",
    "disp(dcmdir)\n",
    "init_ML_DICOM;\n",
    "planC = importDICOM(dcmdir);\n",
    "\n",
    "indexS = planC{end};\n",
    "numel(planC{indexS.structures})\n",
    "\n",
    "#save_planC(planC,[],'passed',fullfile(dcmdir,[slabel '_' subj0 '.mat']));\n",
    "#disp(fullfile(dcmdir,[slabel '_' subj0 '.mat']))\n",
    "#exist(fullfile(dcmdir,[slabel '_' subj0 '.mat']))"
   ]
  },
  {
   "cell_type": "code",
   "execution_count": 16,
   "id": "1462edd4-06a8-4862-bfdd-59f66d76fb2f",
   "metadata": {
    "scrolled": true,
    "tags": []
   },
   "outputs": [],
   "source": [
    "%%octave\n",
    "\n",
    "sampleParam = fullfile(cerrPath,'Jupyter_Notebooks/demoParams.json');\n",
    "paramS = getRadiomicsParamTemplate(sampleParam);"
   ]
  },
  {
   "cell_type": "code",
   "execution_count": 17,
   "id": "73db44de-bea0-4a99-a20f-880537ee877c",
   "metadata": {
    "scrolled": true,
    "tags": []
   },
   "outputs": [
    {
     "data": {
      "text/plain": [
       "Unnamed contour ROI"
      ]
     },
     "metadata": {},
     "output_type": "display_data"
    },
    {
     "data": {
      "text/plain": [
       "1"
      ]
     },
     "metadata": {},
     "output_type": "display_data"
    },
    {
     "data": {
      "text/plain": [
       "Unnamed contour ROI"
      ]
     },
     "metadata": {},
     "output_type": "display_data"
    },
    {
     "data": {
      "text/plain": [
       "struct_Unnamed_contour_ROI"
      ]
     },
     "metadata": {},
     "output_type": "display_data"
    }
   ],
   "source": [
    "%%octave\n",
    "indexS = planC{end};\n",
    "strC = {planC{indexS.structures}.structureName};\n",
    "#strName = paramS.structuresC{1};\n",
    "#structNum = getMatchingIndex(strName,strC,'exact');\n",
    "structNum = 1;\n",
    "strName = planC{indexS.structures}(structNum).structureName;\n",
    "disp(strName)\n",
    "scanNum = getStructureAssociatedScan(structNum,planC);\n",
    "disp(scanNum)\n",
    "doseNum = 1;\n",
    "binWidth = 0.01;\n",
    "disp(strName);\n",
    "structFieldName = ['struct_',repSpaceHyp(strName)];\n",
    "disp(structFieldName);"
   ]
  },
  {
   "cell_type": "code",
   "execution_count": 18,
   "id": "3994839e-bad3-4949-ab11-f956fa6ec811",
   "metadata": {
    "scrolled": true,
    "tags": []
   },
   "outputs": [
    {
     "data": {
      "text/plain": [
       "Elapsed time is 0.405679 seconds."
      ]
     },
     "metadata": {},
     "output_type": "display_data"
    },
    {
     "data": {
      "text/plain": [
       "Elapsed time is 0.00500512 seconds."
      ]
     },
     "metadata": {},
     "output_type": "display_data"
    },
    {
     "data": {
      "text/plain": [
       "Elapsed time is 0.00869298 seconds."
      ]
     },
     "metadata": {},
     "output_type": "display_data"
    }
   ],
   "source": [
    "%%octave\n",
    "\n",
    "radiomicsFeatS = calcGlobalRadiomicsFeatures(scanNum, structNum, paramS, planC);\n",
    "\n",
    "writeFeaturesToCSV(radiomicsFeatS,[featureDir '/ria1_radiomics_features.csv'],{'RIA1'});"
   ]
  },
  {
   "cell_type": "markdown",
   "id": "491060eb-b660-4eac-a71b-d31a777f289c",
   "metadata": {
    "tags": []
   },
   "source": [
    "### Upload radiomics features CSV to XNAT"
   ]
  },
  {
   "cell_type": "code",
   "execution_count": 19,
   "id": "ffa94778-0f3f-4638-8d5a-8cc03f2e6f30",
   "metadata": {},
   "outputs": [
    {
     "data": {
      "text/plain": [
       "True"
      ]
     },
     "execution_count": 19,
     "metadata": {},
     "output_type": "execute_result"
    }
   ],
   "source": [
    "xscan = xnat.select.project(proj).subject(subj0).experiment(exp).scan('7')\n",
    "xscan.exists()"
   ]
  },
  {
   "cell_type": "code",
   "execution_count": 20,
   "id": "667b26ee-a406-413b-a975-f71b6fff0870",
   "metadata": {},
   "outputs": [],
   "source": [
    "scan = xscan.attrs.get('ID')"
   ]
  },
  {
   "cell_type": "markdown",
   "id": "af1b951b-83d9-485e-9080-a410899e7798",
   "metadata": {},
   "source": [
    "### Conrad XNAT resource creation"
   ]
  },
  {
   "cell_type": "code",
   "execution_count": 21,
   "id": "a9c73ceb-00c4-4359-b132-3da5a0a71e4a",
   "metadata": {},
   "outputs": [],
   "source": [
    "import requests\n",
    "\n",
    "session = requests.Session()\n",
    "session.auth = (xusr, xpwd)\n",
    "auth = session.post(xhost)\n",
    "\n",
    "#PUT - /data/experiments/{experiment-id}/scans/{scan-id}/resources/{resource-label}"
   ]
  },
  {
   "cell_type": "code",
   "execution_count": 22,
   "id": "74861b04-58f3-4e8e-b294-5a81d630ba23",
   "metadata": {},
   "outputs": [
    {
     "name": "stdout",
     "output_type": "stream",
     "text": [
      "MSKCC02_E32444\n",
      "RIA_18-455E_000_000001\n",
      "18-455E\n",
      "7\n"
     ]
    }
   ],
   "source": [
    "print(exp)\n",
    "print(subj0)\n",
    "print(proj)\n",
    "print(scan)"
   ]
  },
  {
   "cell_type": "code",
   "execution_count": 23,
   "id": "f37f11fc-30f6-4049-b436-6f5c059d2a8e",
   "metadata": {},
   "outputs": [
    {
     "name": "stdout",
     "output_type": "stream",
     "text": [
      "True\n"
     ]
    }
   ],
   "source": [
    "res = 'CERR'\n",
    "xres = xscan.resource(res)\n",
    "print(xres.exists())"
   ]
  },
  {
   "cell_type": "code",
   "execution_count": null,
   "id": "963379ba-0363-40bc-b8a6-75588a57985d",
   "metadata": {},
   "outputs": [],
   "source": [
    "if not xres.exists():\n",
    "    req_URL = xhost + '/data/experiments/' + exp + '/scans/' + scan + '/resources/' + res\n",
    "    print(req_URL)\n",
    "    r = session.put(req_URL)\n",
    "    r.content"
   ]
  },
  {
   "cell_type": "code",
   "execution_count": 26,
   "id": "1f66a134-076b-4a45-af44-d1106a6d8076",
   "metadata": {
    "scrolled": true,
    "tags": []
   },
   "outputs": [],
   "source": [
    "xfile = xres.file('CERR_radiomics_features.csv')\n",
    "if not xfile.exists():\n",
    "    xfile.insert(os.path.join(featureDir,'ria1_radiomics_features.csv'),'CERR_radiomics_features.csv')"
   ]
  }
 ],
 "metadata": {
  "kernelspec": {
   "display_name": "Python 3 (ipykernel)",
   "language": "python",
   "name": "python3"
  },
  "language_info": {
   "codemirror_mode": {
    "name": "ipython",
    "version": 3
   },
   "file_extension": ".py",
   "mimetype": "text/x-python",
   "name": "python",
   "nbconvert_exporter": "python",
   "pygments_lexer": "ipython3",
   "version": "3.11.0"
  }
 },
 "nbformat": 4,
 "nbformat_minor": 5
}
