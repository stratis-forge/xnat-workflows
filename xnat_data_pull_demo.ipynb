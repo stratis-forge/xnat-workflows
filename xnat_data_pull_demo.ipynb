{
 "cells": [
  {
   "cell_type": "markdown",
   "id": "65bb99f5-3938-4108-bb68-9ff04d889d6e",
   "metadata": {},
   "source": [
    "# Stratis Analysis: Sample Data from PIXNAT"
   ]
  },
  {
   "cell_type": "markdown",
   "id": "b8b3460f-11c4-4365-a5b9-dfaa7633c41d",
   "metadata": {},
   "source": [
    "2022 Oct 11"
   ]
  },
  {
   "cell_type": "code",
   "execution_count": null,
   "id": "7311d0e1-8919-44df-8627-aa552c06add8",
   "metadata": {},
   "outputs": [],
   "source": [
    "import os,requests,shutil,time,getpass\n",
    "from pyxnat import Interface\n",
    "from glob import glob"
   ]
  },
  {
   "cell_type": "code",
   "execution_count": null,
   "id": "92bc509c-f43d-496d-9cd0-70b7bd82accd",
   "metadata": {},
   "outputs": [],
   "source": [
    "# URL of the XNAT host\n",
    "xhost = 'http://pixnat.mskcc.org'"
   ]
  },
  {
   "cell_type": "code",
   "execution_count": null,
   "id": "0d2a3ed5-e43e-459c-a6bb-6fdedf13e441",
   "metadata": {},
   "outputs": [],
   "source": [
    "# input XNAT credentials\n",
    "xusr = 'locastre'\n",
    "xpwd = getpass.getpass()"
   ]
  },
  {
   "cell_type": "code",
   "execution_count": null,
   "id": "4fcd2925-3e22-409e-974e-a165d7574bfd",
   "metadata": {},
   "outputs": [],
   "source": [
    "# Authenticate to the XNAT via pyXNAT Interface\n",
    "xnat = Interface(xhost,xusr,xpwd)"
   ]
  },
  {
   "cell_type": "code",
   "execution_count": null,
   "id": "26bcc7e4-bdd7-49cd-bd97-4397f80ae24e",
   "metadata": {},
   "outputs": [],
   "source": [
    "session.auth = (xusr, xpwd)\n",
    "auth = session.post(xhost)"
   ]
  },
  {
   "cell_type": "code",
   "execution_count": null,
   "id": "dee0a37a-d90e-4269-b943-ec0a0164e9b7",
   "metadata": {},
   "outputs": [],
   "source": [
    "# Identify the project for the HNSCC test data\n",
    "xproj = xnat.select.projects('HNSCC_Fuller*')\n",
    "proj = xproj.get()\n",
    "print(proj)"
   ]
  },
  {
   "cell_type": "markdown",
   "id": "6bb93bb8-e6bf-4a8c-8504-47075c2500c9",
   "metadata": {},
   "source": [
    "## Download the first 10 subjects from PIXNAT to data directory"
   ]
  },
  {
   "cell_type": "code",
   "execution_count": null,
   "id": "8521d3e5-9af5-421c-a242-ae5972f1a98d",
   "metadata": {},
   "outputs": [],
   "source": [
    "# Set local download data directory here\n",
    "datadir = r'X:\\Eve\\radiomics-workflows'\n",
    "print('User-set datadir ' + datadir + ' exists: ' + str(os.path.exists(datadir)))"
   ]
  },
  {
   "cell_type": "code",
   "execution_count": null,
   "id": "985d4f7c-4169-4464-b99e-4a0ca16b9696",
   "metadata": {},
   "outputs": [],
   "source": [
    "# Get RT_SIMULATION data from first 10 patients\n",
    "subjlist = xproj.subjects('*').get()[0:10]\n",
    "print(subjlist)"
   ]
  },
  {
   "cell_type": "code",
   "execution_count": null,
   "id": "d92ad07f-e247-42a1-adbd-ba3ab08dd320",
   "metadata": {},
   "outputs": [],
   "source": [
    "analysis_list = []\n",
    "\n",
    "for subj in subjlist:\n",
    "    xsubj = xproj.subject(subj)\n",
    "    xexplist = xsubj.experiments('*')\n",
    "    for xexp in xexplist:\n",
    "        session = xexp.attrs.get('label')\n",
    "        exp_id = xexp.attrs.get('ID')        \n",
    "        subjid = xexp.attrs.get('dcmPatientId')\n",
    "        if 'RT_SIMULATION' in session:            \n",
    "            expdir = os.path.join(datadir,subjid,session)\n",
    "            analysis_list.append(expdir)\n",
    "            print('Downloading session to folder: ' + expdir)\n",
    "            os.makedirs(expdir,exist_ok=True)\n",
    "            csv_file = os.path.join(expdir,'xnat.csv')\n",
    "            f = open(csv_file,'w')\n",
    "            f.write(subj + ',' + exp_id)\n",
    "            f.close()\n",
    "            xscanlist = xexp.scans('*')\n",
    "            for xscan in xscanlist:\n",
    "                scan = xscan.attrs.get('ID')\n",
    "                modality = xscan.attrs.get('modality')\n",
    "                scandir = os.path.join(expdir,modality,scan)\n",
    "                os.makedirs(scandir,exist_ok=True)\n",
    "                if modality == 'CT' or modality == 'RTDOSE':\n",
    "                    res = 'DICOM'\n",
    "                    resfilelist = xscan.resource(res).files('*').get()\n",
    "                    for rfile in resfilelist:\n",
    "                        xscan.resource(res).file(rfile).get(os.path.join(scandir,rfile))\n",
    "                elif modality == 'RTPLAN' or modality == 'RTSTRUCT':\n",
    "                    res = 'secondary'\n",
    "                    resfilelist = xscan.resource(res).files('*').get()\n",
    "                    for rfile in resfilelist:\n",
    "                        xscan.resource(res).file(rfile).get(os.path.join(scandir,rfile))"
   ]
  },
  {
   "cell_type": "markdown",
   "id": "5ac1b93f-629d-4764-a502-1767b2044214",
   "metadata": {},
   "source": [
    "## Perform CERR analysis here"
   ]
  },
  {
   "cell_type": "code",
   "execution_count": null,
   "id": "e94654e5-13c6-46de-809c-1c17920a75a0",
   "metadata": {},
   "outputs": [],
   "source": [
    "print('Folders for analysis: ')\n",
    "print(analysis_list)"
   ]
  },
  {
   "cell_type": "code",
   "execution_count": null,
   "id": "7ee96d53-86e5-4dba-af67-db54a1c63bcd",
   "metadata": {},
   "outputs": [],
   "source": []
  },
  {
   "cell_type": "markdown",
   "id": "c0808f33-abd3-4992-9a68-6a438af8a9b3",
   "metadata": {},
   "source": [
    "## Return RTSTRUCT results to PIXNAT"
   ]
  },
  {
   "cell_type": "code",
   "execution_count": null,
   "id": "2e674c5c-24db-4ad8-9134-460dc996455c",
   "metadata": {},
   "outputs": [],
   "source": [
    "import pydicom"
   ]
  },
  {
   "cell_type": "code",
   "execution_count": null,
   "id": "e4f791fd-fcec-4a55-b688-668cd39cf128",
   "metadata": {},
   "outputs": [],
   "source": [
    "# rt_mod: helper function to correct possibly missing header info in RTSTRUCT\n",
    "\n",
    "def rt_mod(dcmfile):\n",
    "    d=pydicom.read_file(dcmfile)\n",
    "    roi = os.path.join(os.path.dirname(dcmfile),'ROI_' + os.path.basename(dcmfile))\n",
    "    print('ROI file out ' + roi)\n",
    "    if d.StudyDate=='':\n",
    "        d.StudyDate=d.StructureSetDate\n",
    "    if d.StructureSetTime=='':\n",
    "        d.StructureSetTime=time.strftime('%H%M%S') + '.00'\n",
    "    if d.StudyTime=='':\n",
    "        d.StudyTime=d.StructureSetTime\n",
    "    try:\n",
    "        agestr = d['PatientAge'].value\n",
    "        if agestr != '':\n",
    "            patientAge = int(agestr[:-1])\n",
    "            if patientAge > 100:\n",
    "                d['PatientAge'].value = '099Y'\n",
    "    except:\n",
    "        print('No PatientAge tag')\n",
    "    d.save_as(roi)\n",
    "    return(roi)"
   ]
  },
  {
   "cell_type": "code",
   "execution_count": null,
   "id": "a8a59bdf-62c2-40af-9305-d5cc71875706",
   "metadata": {},
   "outputs": [],
   "source": [
    "headers = {'accept': 'text/plain','Content-Type': 'application/octet-stream'}\n",
    "\n",
    "# Upload RTSTRUCT files as ROI Assessor to PIXNAT via direct REST call\n",
    "\n",
    "for expdir in analysis_list:\n",
    "    f = open(os.path.join(expdir,'xnat.csv'),'r')\n",
    "    xnatinfo = f.readlines()[0].split(',')\n",
    "    subj = xnatinfo[0]\n",
    "    exp = xnatinfo[1]\n",
    "    f.close()\n",
    "    rtout = os.path.join(expdir,'output','RTSTRUCT.dcm') #needs updating to match analysis results\n",
    "    rt_fixed = rt_mod(rtout)\n",
    "    r = requests.post(req_URL)\n",
    "    xlabel = subj + '_' + exp + '_STRATIS_HNSCC_demo'\n",
    "    req_URL = xhost + '/xapi/roi/projects/' + proj + '/sessions/' + exp + '/collections/'+ xlabel + '?type=RTSTRUCT'\n",
    "    with open(rt_fixed,'rb') as xstream:\n",
    "        r = session.put(req_URL,data=xstream,headers=headers)"
   ]
  },
  {
   "cell_type": "code",
   "execution_count": null,
   "id": "142930c1-4196-4f48-8725-b5f3e0db4a88",
   "metadata": {},
   "outputs": [],
   "source": [
    "# Close out user session on PIXNAT\n",
    "xnat.disconnect()"
   ]
  }
 ],
 "metadata": {
  "kernelspec": {
   "display_name": "Python 3 (ipykernel)",
   "language": "python",
   "name": "python3"
  },
  "language_info": {
   "codemirror_mode": {
    "name": "ipython",
    "version": 3
   },
   "file_extension": ".py",
   "mimetype": "text/x-python",
   "name": "python",
   "nbconvert_exporter": "python",
   "pygments_lexer": "ipython3",
   "version": "3.9.12"
  }
 },
 "nbformat": 4,
 "nbformat_minor": 5
}
