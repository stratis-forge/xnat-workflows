{
 "cells": [
  {
   "cell_type": "markdown",
   "id": "1e933fdc-e1e2-4035-8cef-179d9213c591",
   "metadata": {},
   "source": [
    "# STRATIS Workflow Demo from PIXNAT data"
   ]
  },
  {
   "cell_type": "code",
   "execution_count": 9,
   "id": "f9981282-5022-4f4e-b7fd-74765f61fad6",
   "metadata": {},
   "outputs": [
    {
     "name": "stdout",
     "output_type": "stream",
     "text": [
      "The oct2py.ipython extension is already loaded. To reload it, use:\n",
      "  %reload_ext oct2py.ipython\n"
     ]
    }
   ],
   "source": [
    "import os, oct2py, octave_kernel, requests, shutil, time\n",
    "from getpass import getpass\n",
    "from pyxnat import Interface\n",
    "\n",
    "%load_ext oct2py.ipython"
   ]
  },
  {
   "cell_type": "code",
   "execution_count": 10,
   "id": "e87dc70e-31fc-4e3a-bf5a-adbe2101f134",
   "metadata": {},
   "outputs": [
    {
     "name": "stdin",
     "output_type": "stream",
     "text": [
      " ········\n"
     ]
    }
   ],
   "source": [
    "xusr = 'locastre'\n",
    "xpwd = getpass()"
   ]
  },
  {
   "cell_type": "code",
   "execution_count": 11,
   "id": "5e510c15-d6f8-4d12-9598-234360751e41",
   "metadata": {},
   "outputs": [],
   "source": [
    "xhost = 'http://plvimphxnat1'\n",
    "proj = '22547_STRATIS_Demo_1'"
   ]
  },
  {
   "cell_type": "code",
   "execution_count": 12,
   "id": "93903a45-12dc-4d52-8d11-86d3621e628d",
   "metadata": {},
   "outputs": [],
   "source": [
    "xnat = Interface(xhost,xusr,xpwd)\n",
    "xproj = xnat.select.project(proj)\n",
    "xsubjlist = xproj.subjects('*')"
   ]
  },
  {
   "cell_type": "code",
   "execution_count": null,
   "id": "7a162bba-c4f1-45f8-8553-2f6e9b76b2eb",
   "metadata": {},
   "outputs": [],
   "source": [
    "cerrPath = '/cluster/home/locastre/CERR_master/CERR'"
   ]
  },
  {
   "cell_type": "code",
   "execution_count": null,
   "id": "3748b713-8445-4b04-80e0-8f985b8a5e65",
   "metadata": {},
   "outputs": [],
   "source": [
    "%octave_push cerrPath"
   ]
  },
  {
   "cell_type": "code",
   "execution_count": null,
   "id": "7b51db31-109d-48ad-837e-af2f479fb7af",
   "metadata": {},
   "outputs": [],
   "source": [
    "workingdir = '/cluster/home/locastre/STRATIS_demo_1'\n",
    "os.makedirs(workingdir,exist_ok=True)"
   ]
  },
  {
   "cell_type": "markdown",
   "id": "6607b6cb-d33f-4590-9b9b-c224cc30a145",
   "metadata": {},
   "source": [
    "## Download files from each subject in PIXNAT experiment"
   ]
  },
  {
   "cell_type": "code",
   "execution_count": null,
   "id": "44b3d07b-aa42-4f4a-870b-f34824e1a28e",
   "metadata": {},
   "outputs": [],
   "source": [
    "session_list = []\n",
    "\n",
    "for xsubj in xsubjlist:\n",
    "    subj = xsubj.attrs.get('label')\n",
    "    xexplist = xsubj.experiments('*')\n",
    "    subjdir = os.path.join(workingdir,subj)\n",
    "    os.makedirs(subjdir,exist_ok=True)\n",
    "    for xexp in xexplist:\n",
    "        sessionlabel = xexp.attrs.get('label')\n",
    "        xscanlist = xexp.scans('*')\n",
    "        savedir = os.path.join(subjdir,sessionlabel)\n",
    "        os.makedirs(savedir,exist_ok=True)\n",
    "        cerrdir = os.path.join(savedir,'CERR')\n",
    "        os.makedirs(cerrdir,exist_ok=True)\n",
    "        session_list.append(savedir)\n",
    "        os.makedirs(savedir,exist_ok=True)\n",
    "        for xscan in xscanlist:\n",
    "            try:\n",
    "                xscan.resource('DICOM').get(savedir,extract=True)\n",
    "            except:\n",
    "                xscan.resource('secondary').get(savedir,extract=True)\n",
    "                secfile = os.listdir(os.path.join(savedir,'secondary'))\n",
    "                for sf in secfile:\n",
    "                    shutil.move(os.path.join(savedir,'secondary',sf),os.path.join(savedir,'DICOM',sf))"
   ]
  },
  {
   "cell_type": "code",
   "execution_count": null,
   "id": "c5f219a6-ad67-4c38-8e8c-e102855ddc82",
   "metadata": {},
   "outputs": [],
   "source": [
    "%octave_push savedir dicomdir session_list"
   ]
  },
  {
   "cell_type": "code",
   "execution_count": null,
   "id": "a5a51724-9eb7-4fb2-8509-01ec5580a5e0",
   "metadata": {},
   "outputs": [],
   "source": [
    "%%octave\n",
    "\n",
    "addpath(cerrPath);\n",
    "addToPath2(cerrPath);\n",
    "\n",
    "init_ML_DICOM;\n",
    "\n",
    "for i = 1:numel(session_list)\n",
    "    \n",
    "planC = importDICOM(dicomdir);\n",
    "mkdir(fullfile(savedir,'CERR'));\n",
    "planCfile = fullfile(savedir,'CERR','planC.mat');\n",
    "save_planC(planC,[],'PASSED',planCfile);\n",
    "end"
   ]
  },
  {
   "cell_type": "code",
   "execution_count": null,
   "id": "03794720-83c1-4b3b-8152-fa48f166ce36",
   "metadata": {},
   "outputs": [],
   "source": [
    "%octave_pull planCfile"
   ]
  },
  {
   "cell_type": "markdown",
   "id": "5c33beb6-71c0-40f9-9f75-00384bbe22d9",
   "metadata": {},
   "source": [
    "## Create resource folders and upload results to PIXNAT via REST and pyxnat(template)"
   ]
  },
  {
   "cell_type": "markdown",
   "id": "c9233625-79f6-4d38-af73-503133ed5e6b",
   "metadata": {},
   "source": [
    "Authenticate to PIXNAT via requests module with user credentials"
   ]
  },
  {
   "cell_type": "code",
   "execution_count": null,
   "id": "af06f3ef-3ad9-4af4-b264-b0d206b09a1a",
   "metadata": {},
   "outputs": [],
   "source": [
    "session = requests.Session()\n",
    "session.auth = (xusr, xpwd)\n",
    "auth = session.post(xhost)"
   ]
  },
  {
   "cell_type": "markdown",
   "id": "191e35de-c225-4f68-8bf6-f932400d4be8",
   "metadata": {},
   "source": [
    "The name of the folder is \"CERR\" here"
   ]
  },
  {
   "cell_type": "code",
   "execution_count": null,
   "id": "89bf7d97-7934-4281-a58a-2bc9c0ef3c02",
   "metadata": {},
   "outputs": [],
   "source": [
    "xres = xexp.resource('CERR')"
   ]
  },
  {
   "cell_type": "code",
   "execution_count": null,
   "id": "6de1fbf1-413c-484b-95b9-88fb4784b737",
   "metadata": {
    "tags": []
   },
   "outputs": [],
   "source": [
    "if not xres.exists():\n",
    "    req_URL = xhost + '/data/experiments/' + exp + '/resources/CERR'\n",
    "    print(req_URL)\n",
    "    r = session.put(req_URL)\n",
    "    r.content"
   ]
  },
  {
   "cell_type": "code",
   "execution_count": null,
   "id": "b8eeb477-75c1-493b-aac7-86361cbf1f24",
   "metadata": {},
   "outputs": [],
   "source": [
    "xfile = xres.file('planC.mat')\n",
    "if not xfile.exists():\n",
    "    xfile.insert(planCfile,'planC.mat')"
   ]
  },
  {
   "cell_type": "markdown",
   "id": "22058a96-039f-4433-b901-615034bf4131",
   "metadata": {},
   "source": [
    "Create new scan object and upload secondary type DICOM images"
   ]
  },
  {
   "cell_type": "code",
   "execution_count": null,
   "id": "8d1a4ada-3cb4-484f-832c-f6d22030a23f",
   "metadata": {},
   "outputs": [],
   "source": [
    "newxscan = xexp.scan('CERR-1')\n",
    "newxscan.insert()\n",
    "newxscan.resource('secondary').create()\n",
    "newxscan.resource('secondary').put_dir(cerrdcmpath)"
   ]
  },
  {
   "cell_type": "markdown",
   "id": "ce7d9876-be13-476a-a486-32aec2b3deec",
   "metadata": {},
   "source": [
    "Add RTSTRUCT to the ROI collection in PIXNAT"
   ]
  },
  {
   "cell_type": "code",
   "execution_count": null,
   "id": "89624a8b-d13d-41d8-a903-6c08fb0f52e0",
   "metadata": {},
   "outputs": [],
   "source": [
    "def rt_mod(rtstructfile):\n",
    "    rtdcm = pydicom.dcmread(rtstruct)\n",
    "    if rtdcm.StudyDate=='':\n",
    "        rtdcm.StudyDate=d.StructureSetDate\n",
    "\n",
    "    if rtdcm.StructureSetTime=='':\n",
    "        rtdcm.StructureSetTime=time.strftime('%H%M%S') + '.00'\n",
    "\n",
    "    if rtdcm.StudyTime=='':\n",
    "        rtdcm.StudyTime=d.StructureSetTime\n",
    "\n",
    "    try:\n",
    "        agestr = d['PatientAge'].value\n",
    "        if agestr != '':\n",
    "            patientAge = int(agestr[:-1])\n",
    "            if patientAge > 100:\n",
    "                rtdcm['PatientAge'].value = '099Y'\n",
    "    except:\n",
    "        print('No PatientAge tag')\n",
    "    rtdcm.save_as(rtstructfile)"
   ]
  },
  {
   "cell_type": "code",
   "execution_count": null,
   "id": "3546c136-e3a3-421c-9664-b23e94063acb",
   "metadata": {},
   "outputs": [],
   "source": [
    "rtstructfile = ''\n",
    "\n",
    "rtdcm = pydicom.dcmread(rtstructfile)\n",
    "xuid = rtdcm['Series Description'].value.replace(' ','_')\n",
    "\n",
    "\n",
    "headers = {'Content-Type':'application/octet-stream','Accept':'text/plain'}\n",
    "\n",
    "req_URL = xhost + '/xapi/roi/projects/' + xproj + '/sessions/' + exp + '/collections/' + xuid + '?type=RTSTRUCT&overwrite=true\"\n",
    "\n",
    "r = session.put(req_URL,headers=headers,file=rtstructfile)\n",
    "r.contents"
   ]
  },
  {
   "cell_type": "markdown",
   "id": "62919f7e-14a4-4555-9e79-4ea033058323",
   "metadata": {},
   "source": [
    "dfsdfsdfsdfsd"
   ]
  }
 ],
 "metadata": {
  "kernelspec": {
   "display_name": "Python 3 (ipykernel)",
   "language": "python",
   "name": "python3"
  },
  "language_info": {
   "codemirror_mode": {
    "name": "ipython",
    "version": 3
   },
   "file_extension": ".py",
   "mimetype": "text/x-python",
   "name": "python",
   "nbconvert_exporter": "python",
   "pygments_lexer": "ipython3",
   "version": "3.11.0"
  }
 },
 "nbformat": 4,
 "nbformat_minor": 5
}
